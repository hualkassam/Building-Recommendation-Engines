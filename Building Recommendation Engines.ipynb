{
 "cells": [
  {
   "cell_type": "markdown",
   "metadata": {},
   "source": [
    "### Building Machine Learning Pipelines"
   ]
  },
  {
   "cell_type": "code",
   "execution_count": 15,
   "metadata": {},
   "outputs": [],
   "source": [
    "from sklearn.datasets import samples_generator\n",
    "from sklearn.ensemble import RandomForestClassifier\n",
    "from sklearn.feature_selection import SelectKBest, f_regression\n",
    "from sklearn.pipeline import Pipeline"
   ]
  },
  {
   "cell_type": "code",
   "execution_count": 24,
   "metadata": {},
   "outputs": [],
   "source": [
    "# generate sample data\n",
    "X, y = samples_generator.make_classification(\n",
    "        n_informative=4, n_features=20, n_redundant=0, random_state=5)"
   ]
  },
  {
   "cell_type": "code",
   "execution_count": 25,
   "metadata": {},
   "outputs": [],
   "source": [
    "# Feature selector \n",
    "selector_k_best = SelectKBest(f_regression, k=10)\n",
    "\n",
    "# Random forest classifier\n",
    "classifier = RandomForestClassifier(n_estimators=50, max_depth=4)\n",
    "\n",
    "# Build the machine learning pipeline\n",
    "pipeline_classifier = Pipeline([('selector', selector_k_best), ('rf', classifier)])"
   ]
  },
  {
   "cell_type": "code",
   "execution_count": 10,
   "metadata": {},
   "outputs": [
    {
     "data": {
      "text/plain": [
       "Pipeline(memory=None,\n",
       "     steps=[('selector', SelectKBest(k=6, score_func=<function f_regression at 0x7f4d25553950>)), ('rf', RandomForestClassifier(bootstrap=True, class_weight=None, criterion='gini',\n",
       "            max_depth=4, max_features='auto', max_leaf_nodes=None,\n",
       "            min_impurity_decrease=0.0, min_impurity_split...obs=None,\n",
       "            oob_score=False, random_state=None, verbose=0,\n",
       "            warm_start=False))])"
      ]
     },
     "execution_count": 10,
     "metadata": {},
     "output_type": "execute_result"
    }
   ],
   "source": [
    "# We can set the parameters using the names we assigned\n",
    "# earlier. For example, if we want to set 'k' to 6 in the\n",
    "# feature selector and set 'n_estimators' in the Random \n",
    "# Forest Classifier to 25, we can do it as shown below\n",
    "pipeline_classifier.set_params(selector__k=6, \n",
    "        rf__n_estimators=25)"
   ]
  },
  {
   "cell_type": "code",
   "execution_count": 26,
   "metadata": {},
   "outputs": [
    {
     "data": {
      "text/plain": [
       "Pipeline(memory=None,\n",
       "     steps=[('selector', SelectKBest(k=10, score_func=<function f_regression at 0x7f4d25553950>)), ('rf', RandomForestClassifier(bootstrap=True, class_weight=None, criterion='gini',\n",
       "            max_depth=4, max_features='auto', max_leaf_nodes=None,\n",
       "            min_impurity_decrease=0.0, min_impurity_spli...obs=None,\n",
       "            oob_score=False, random_state=None, verbose=0,\n",
       "            warm_start=False))])"
      ]
     },
     "execution_count": 26,
     "metadata": {},
     "output_type": "execute_result"
    }
   ],
   "source": [
    "# Training the classifier\n",
    "pipeline_classifier.fit(X, y)"
   ]
  },
  {
   "cell_type": "code",
   "execution_count": 27,
   "metadata": {},
   "outputs": [
    {
     "name": "stdout",
     "output_type": "stream",
     "text": [
      "Predictions:\n",
      " [1 1 0 1 0 0 0 0 1 0 1 1 0 1 1 0 0 1 0 0 0 0 0 1 0 1 0 0 1 1 0 0 0 1 0 0 1\n",
      " 1 1 1 1 1 1 1 1 1 0 1 1 0 1 1 0 1 0 1 1 0 0 0 1 1 1 0 0 1 0 0 0 1 1 0 0 1\n",
      " 1 0 0 0 0 1 0 1 0 1 1 0 1 1 1 0 1 0 1 1 1 0 1 1 0 1]\n"
     ]
    }
   ],
   "source": [
    "# Predict the output\n",
    "prediction = pipeline_classifier.predict(X)\n",
    "print(\"Predictions:\\n\", prediction)"
   ]
  },
  {
   "cell_type": "code",
   "execution_count": 28,
   "metadata": {},
   "outputs": [
    {
     "name": "stdout",
     "output_type": "stream",
     "text": [
      "Score: 0.97\n"
     ]
    }
   ],
   "source": [
    "# Print score\n",
    "print(\"Score:\", pipeline_classifier.score(X, y))   "
   ]
  },
  {
   "cell_type": "code",
   "execution_count": 29,
   "metadata": {},
   "outputs": [
    {
     "name": "stdout",
     "output_type": "stream",
     "text": [
      "Selected features (0-indexed): 0, 5, 7, 9, 10, 11, 13, 15, 16, 18\n"
     ]
    }
   ],
   "source": [
    "# Print the selected features chosen by the selector\n",
    "features_status = pipeline_classifier.named_steps['selector'].get_support()\n",
    "selected_features = []\n",
    "for count, item in enumerate(features_status):\n",
    "    if item:\n",
    "        selected_features.append(count)\n",
    "\n",
    "print(\"Selected features (0-indexed):\", ', '.join([str(x) for x in selected_features]))"
   ]
  },
  {
   "cell_type": "markdown",
   "metadata": {},
   "source": [
    "### Finding the Nearest Neighbors"
   ]
  },
  {
   "cell_type": "code",
   "execution_count": 30,
   "metadata": {},
   "outputs": [],
   "source": [
    "import numpy as np\n",
    "import matplotlib.pyplot as plt\n",
    "from sklearn.neighbors import NearestNeighbors"
   ]
  },
  {
   "cell_type": "code",
   "execution_count": 31,
   "metadata": {},
   "outputs": [],
   "source": [
    "# Input data\n",
    "X = np.array([[1, 1], [1, 3], [2, 2], [2.5, 5], [3, 1], \n",
    "        [4, 2], [2, 3.5], [3, 3], [3.5, 4]])"
   ]
  },
  {
   "cell_type": "code",
   "execution_count": 32,
   "metadata": {},
   "outputs": [
    {
     "data": {
      "text/plain": [
       "<matplotlib.collections.PathCollection at 0x7f4d244c1588>"
      ]
     },
     "execution_count": 32,
     "metadata": {},
     "output_type": "execute_result"
    },
    {
     "data": {
      "image/png": "[encoded data removed]",
      "text/plain": [
       "<Figure size 432x288 with 1 Axes>"
      ]
     },
     "metadata": {
      "needs_background": "light"
     },
     "output_type": "display_data"
    }
   ],
   "source": [
    "# Number of neighbors we want to find\n",
    "num_neighbors = 3\n",
    "\n",
    "# Input point\n",
    "input_point = [[2.6, 1.7]]\n",
    "\n",
    "# Plot datapoints\n",
    "plt.figure()\n",
    "plt.scatter(X[:,0], X[:,1], marker='o', s=25, color='k')"
   ]
  },
  {
   "cell_type": "code",
   "execution_count": 33,
   "metadata": {},
   "outputs": [],
   "source": [
    "# Build nearest neighbors model\n",
    "knn = NearestNeighbors(n_neighbors=num_neighbors, algorithm='ball_tree').fit(X)\n",
    "distances, indices = knn.kneighbors(input_point)"
   ]
  },
  {
   "cell_type": "code",
   "execution_count": 34,
   "metadata": {},
   "outputs": [
    {
     "name": "stdout",
     "output_type": "stream",
     "text": [
      "k nearest neighbors\n",
      "1 --> [2. 2.]\n",
      "2 --> [3. 1.]\n",
      "3 --> [3. 3.]\n"
     ]
    }
   ],
   "source": [
    "# Print the 'k' nearest neighbors\n",
    "print(\"k nearest neighbors\")\n",
    "for rank, index in enumerate(indices[0][:num_neighbors]):\n",
    "    print(str(rank+1) + \" -->\", X[index])"
   ]
  },
  {
   "cell_type": "code",
   "execution_count": 35,
   "metadata": {},
   "outputs": [
    {
     "data": {
      "image/png": "[encoded data removed]",
      "text/plain": [
       "<Figure size 432x288 with 1 Axes>"
      ]
     },
     "metadata": {
      "needs_background": "light"
     },
     "output_type": "display_data"
    }
   ],
   "source": [
    "# Plot the nearest neighbors \n",
    "plt.figure()\n",
    "plt.scatter(X[:,0], X[:,1], marker='o', s=25, color='k')\n",
    "plt.scatter(X[indices][0][:][:,0], X[indices][0][:][:,1], \n",
    "        marker='o', s=150, color='k', facecolors='none')\n",
    "plt.scatter(input_point[0][0], input_point[0][1],\n",
    "        marker='x', s=150, color='k', facecolors='none')\n",
    "\n",
    "plt.show()"
   ]
  },
  {
   "cell_type": "markdown",
   "metadata": {},
   "source": [
    "### Constructing a K-Nearest Neighbors Classifier"
   ]
  },
  {
   "cell_type": "code",
   "execution_count": 1,
   "metadata": {},
   "outputs": [],
   "source": [
    "import numpy as np\n",
    "import matplotlib.pyplot as plt\n",
    "import matplotlib.cm as cm\n",
    "from sklearn import neighbors\n",
    "\n",
    "from utilities import load_data"
   ]
  },
  {
   "cell_type": "code",
   "execution_count": 2,
   "metadata": {},
   "outputs": [],
   "source": [
    "# Load input data\n",
    "input_file = 'Python-Machine-Learning-Cookbook-Second-Edition-master/Chapter06/data_nn_classifier.txt'\n",
    "data = load_data(input_file)\n",
    "X, y = data[:,:-1], data[:,-1].astype(np.int)"
   ]
  },
  {
   "cell_type": "code",
   "execution_count": 3,
   "metadata": {},
   "outputs": [
    {
     "data": {
      "image/png": "[encoded data removed]",
      "text/plain": [
       "<Figure size 432x288 with 1 Axes>"
      ]
     },
     "metadata": {
      "needs_background": "light"
     },
     "output_type": "display_data"
    }
   ],
   "source": [
    "# Plot input data\n",
    "plt.figure()\n",
    "plt.title('Input datapoints')\n",
    "markers = '^sov<>hp'\n",
    "mapper = np.array([markers[i] for i in y])\n",
    "for i in range(X.shape[0]):\n",
    "    plt.scatter(X[i, 0], X[i, 1], marker=mapper[i], \n",
    "            s=50, edgecolors='black', facecolors='none')\n",
    "plt.savefig('figure1.pdf', format='pdf', dpi=1000)"
   ]
  },
  {
   "cell_type": "code",
   "execution_count": 4,
   "metadata": {},
   "outputs": [
    {
     "data": {
      "text/plain": [
       "KNeighborsClassifier(algorithm='auto', leaf_size=30, metric='minkowski',\n",
       "           metric_params=None, n_jobs=None, n_neighbors=10, p=2,\n",
       "           weights='distance')"
      ]
     },
     "execution_count": 4,
     "metadata": {},
     "output_type": "execute_result"
    }
   ],
   "source": [
    "# Number of nearest neighbors to consider\n",
    "num_neighbors = 10\n",
    "\n",
    "# step size of the grid\n",
    "h = 0.01  \n",
    "\n",
    "# Create a K-Neighbours Classifier model and train it\n",
    "classifier = neighbors.KNeighborsClassifier(num_neighbors, weights='distance')\n",
    "classifier.fit(X, y)"
   ]
  },
  {
   "cell_type": "code",
   "execution_count": 5,
   "metadata": {},
   "outputs": [
    {
     "data": {
      "text/plain": [
       "<matplotlib.collections.QuadMesh at 0x7f26cefdee10>"
      ]
     },
     "execution_count": 5,
     "metadata": {},
     "output_type": "execute_result"
    },
    {
     "data": {
      "image/png": "[encoded data removed]",
      "text/plain": [
       "<Figure size 432x288 with 1 Axes>"
      ]
     },
     "metadata": {
      "needs_background": "light"
     },
     "output_type": "display_data"
    }
   ],
   "source": [
    "# Create the mesh to plot the boundaries\n",
    "x_min, x_max = X[:, 0].min() - 1, X[:, 0].max() + 1\n",
    "y_min, y_max = X[:, 1].min() - 1, X[:, 1].max() + 1\n",
    "x_grid, y_grid = np.meshgrid(np.arange(x_min, x_max, h), np.arange(y_min, y_max, h))\n",
    "\n",
    "# Compute the outputs for all the points on the mesh\n",
    "predicted_values = classifier.predict(np.c_[x_grid.ravel(), y_grid.ravel()])\n",
    "\n",
    "# Put the computed results on the map\n",
    "predicted_values = predicted_values.reshape(x_grid.shape)\n",
    "plt.figure()\n",
    "plt.pcolormesh(x_grid, y_grid, predicted_values, cmap=cm.Pastel1)"
   ]
  },
  {
   "cell_type": "code",
   "execution_count": 6,
   "metadata": {},
   "outputs": [
    {
     "data": {
      "image/png": "[encoded data removed]",
      "text/plain": [
       "<Figure size 432x288 with 1 Axes>"
      ]
     },
     "metadata": {
      "needs_background": "light"
     },
     "output_type": "display_data"
    }
   ],
   "source": [
    "# Overlay the training points on the map\n",
    "for i in range(X.shape[0]):\n",
    "    plt.scatter(X[i, 0], X[i, 1], marker=mapper[i], \n",
    "            s=50, edgecolors='black', facecolors='none')\n",
    "\n",
    "plt.xlim(x_grid.min(), x_grid.max())\n",
    "plt.ylim(y_grid.min(), y_grid.max())\n",
    "plt.title('k nearest neighbors classifier boundaries')\n",
    "plt.savefig('figure2.pdf', format='pdf', dpi=1000)"
   ]
  },
  {
   "cell_type": "code",
   "execution_count": 7,
   "metadata": {},
   "outputs": [
    {
     "data": {
      "image/png": "[encoded data removed]",
      "text/plain": [
       "<Figure size 432x288 with 1 Axes>"
      ]
     },
     "metadata": {
      "needs_background": "light"
     },
     "output_type": "display_data"
    }
   ],
   "source": [
    "# Test input datapoint\n",
    "test_datapoint = [[4.5, 3.6]]\n",
    "plt.figure()\n",
    "plt.title('Test datapoint')\n",
    "for i in range(X.shape[0]):\n",
    "    plt.scatter(X[i, 0], X[i, 1], marker=mapper[i], \n",
    "            s=50, edgecolors='black', facecolors='none')\n",
    "\n",
    "plt.scatter(test_datapoint[0][0], test_datapoint[0][1], marker='x', \n",
    "        linewidth=3, s=200, facecolors='black')\n",
    "plt.savefig('figure2.pdf', format='pdf', dpi=1000)"
   ]
  },
  {
   "cell_type": "code",
   "execution_count": 8,
   "metadata": {},
   "outputs": [
    {
     "data": {
      "image/png": "[encoded data removed]",
      "text/plain": [
       "<Figure size 432x288 with 1 Axes>"
      ]
     },
     "metadata": {
      "needs_background": "light"
     },
     "output_type": "display_data"
    },
    {
     "data": {
      "text/plain": [
       "<Figure size 432x288 with 0 Axes>"
      ]
     },
     "metadata": {},
     "output_type": "display_data"
    }
   ],
   "source": [
    "# Extract k nearest neighbors\n",
    "dist, indices = classifier.kneighbors(test_datapoint)\n",
    "\n",
    "# Plot k nearest neighbors\n",
    "plt.figure()\n",
    "plt.title('k nearest neighbors')\n",
    "\n",
    "for i in indices:\n",
    "    plt.scatter(X[i, 0], X[i, 1], marker='o', \n",
    "            linewidth=3, s=100, facecolors='black')\n",
    "\n",
    "plt.scatter(test_datapoint[0][0], test_datapoint[0][1], marker='x', \n",
    "        linewidth=3, s=200, facecolors='black')\n",
    "\n",
    "for i in range(X.shape[0]):\n",
    "    plt.scatter(X[i, 0], X[i, 1], marker=mapper[i], \n",
    "            s=50, edgecolors='black', facecolors='none')\n",
    "\n",
    "\n",
    "plt.show()\n",
    "plt.savefig('figure3.pdf', format='pdf', dpi=1000)"
   ]
  },
  {
   "cell_type": "code",
   "execution_count": 9,
   "metadata": {},
   "outputs": [
    {
     "name": "stdout",
     "output_type": "stream",
     "text": [
      "Predicted output: 2\n"
     ]
    }
   ],
   "source": [
    "print(\"Predicted output:\", classifier.predict(test_datapoint)[0])"
   ]
  },
  {
   "cell_type": "markdown",
   "metadata": {},
   "source": [
    "### Constructing a K-Nearest Neighbors Regressor"
   ]
  },
  {
   "cell_type": "code",
   "execution_count": 11,
   "metadata": {},
   "outputs": [],
   "source": [
    "import numpy as np\n",
    "import matplotlib.pyplot as plt\n",
    "from sklearn import neighbors"
   ]
  },
  {
   "cell_type": "code",
   "execution_count": 12,
   "metadata": {},
   "outputs": [],
   "source": [
    "# Generate sample data\n",
    "amplitude = 10\n",
    "num_points = 100\n",
    "X = amplitude * np.random.rand(num_points, 1) - 0.5 * amplitude\n",
    "\n",
    "# Compute target and add noise\n",
    "y = np.sinc(X).ravel() \n",
    "y += 0.2 * (0.5 - np.random.rand(y.size))"
   ]
  },
  {
   "cell_type": "code",
   "execution_count": 13,
   "metadata": {},
   "outputs": [
    {
     "data": {
      "image/png": "[encoded data removed]",
      "text/plain": [
       "<Figure size 432x288 with 1 Axes>"
      ]
     },
     "metadata": {
      "needs_background": "light"
     },
     "output_type": "display_data"
    }
   ],
   "source": [
    "# Plot input data\n",
    "plt.figure()\n",
    "plt.scatter(X, y, s=40, c='k', facecolors='none')\n",
    "plt.title('Input data')\n",
    "plt.savefig('figure1.pdf', format='pdf', dpi=1000)"
   ]
  },
  {
   "cell_type": "code",
   "execution_count": 14,
   "metadata": {},
   "outputs": [],
   "source": [
    "# Create the 1D grid with 10 times the density of the input data\n",
    "x_values = np.linspace(-0.5*amplitude, 0.5*amplitude, 10*num_points)[:, np.newaxis]\n",
    "\n",
    "# Number of neighbors to consider \n",
    "n_neighbors = 8\n",
    "\n",
    "# Define and train the regressor\n",
    "knn_regressor = neighbors.KNeighborsRegressor(n_neighbors, weights='distance')\n",
    "y_values = knn_regressor.fit(X, y).predict(x_values)"
   ]
  },
  {
   "cell_type": "code",
   "execution_count": 15,
   "metadata": {},
   "outputs": [
    {
     "data": {
      "image/png": "[encoded data removed]",
      "text/plain": [
       "<Figure size 432x288 with 1 Axes>"
      ]
     },
     "metadata": {
      "needs_background": "light"
     },
     "output_type": "display_data"
    },
    {
     "data": {
      "text/plain": [
       "<Figure size 432x288 with 0 Axes>"
      ]
     },
     "metadata": {},
     "output_type": "display_data"
    }
   ],
   "source": [
    "plt.figure()\n",
    "plt.scatter(X, y, s=40, c='k', facecolors='none', label='input data')\n",
    "plt.plot(x_values, y_values, c='k', linestyle='--', label='predicted values')\n",
    "plt.xlim(X.min() - 1, X.max() + 1)\n",
    "plt.ylim(y.min() - 0.2, y.max() + 0.2)\n",
    "plt.axis('tight')\n",
    "plt.legend()\n",
    "plt.title('K Nearest Neighbors Regressor')\n",
    "\n",
    "plt.show()\n",
    "plt.savefig('figure2.pdf', format='pdf', dpi=1000)"
   ]
  },
  {
   "cell_type": "markdown",
   "metadata": {},
   "source": [
    "### Computing the Euclidean Distance Score"
   ]
  },
  {
   "cell_type": "code",
   "execution_count": 16,
   "metadata": {},
   "outputs": [],
   "source": [
    "import json\n",
    "import numpy as np"
   ]
  },
  {
   "cell_type": "code",
   "execution_count": 17,
   "metadata": {},
   "outputs": [],
   "source": [
    "# Returns the Euclidean distance score between user1 and user2 \n",
    "def euclidean_score(dataset, user1, user2):\n",
    "    if user1 not in dataset:\n",
    "        raise TypeError('User ' + user1 + ' not present in the dataset')\n",
    "\n",
    "    if user2 not in dataset:\n",
    "        raise TypeError('User ' + user2 + ' not present in the dataset')\n",
    "\n",
    "    # Movies rated by both user1 and user2\n",
    "    rated_by_both = {} \n",
    "\n",
    "    for item in dataset[user1]:\n",
    "        if item in dataset[user2]:\n",
    "            rated_by_both[item] = 1\n",
    "\n",
    "    # If there are no common movies, the score is 0 \n",
    "    if len(rated_by_both) == 0:\n",
    "        return 0\n",
    "\n",
    "    squared_differences = [] \n",
    "\n",
    "    for item in dataset[user1]:\n",
    "        if item in dataset[user2]:\n",
    "            squared_differences.append(np.square(dataset[user1][item] - dataset[user2][item]))\n",
    "        \n",
    "    return 1 / (1 + np.sqrt(np.sum(squared_differences))) "
   ]
  },
  {
   "cell_type": "code",
   "execution_count": 18,
   "metadata": {},
   "outputs": [
    {
     "name": "stdout",
     "output_type": "stream",
     "text": [
      "Euclidean score:\n",
      "0.29429805508554946\n"
     ]
    }
   ],
   "source": [
    "if __name__=='__main__':\n",
    "    data_file = 'Python-Machine-Learning-Cookbook-Second-Edition-master/Chapter06/movie_ratings.json'\n",
    "\n",
    "    with open(data_file, 'r') as f:\n",
    "        data = json.loads(f.read())\n",
    "\n",
    "    user1 = 'John Carson'\n",
    "    user2 = 'Michelle Peterson'\n",
    "\n",
    "    print(\"Euclidean score:\")\n",
    "    print(euclidean_score(data, user1, user2)) "
   ]
  },
  {
   "cell_type": "markdown",
   "metadata": {},
   "source": [
    "### Computing the Pearson Correlation Score"
   ]
  },
  {
   "cell_type": "code",
   "execution_count": 24,
   "metadata": {},
   "outputs": [],
   "source": [
    "import json\n",
    "import numpy as np"
   ]
  },
  {
   "cell_type": "code",
   "execution_count": 25,
   "metadata": {},
   "outputs": [],
   "source": [
    "# Returns the Pearson correlation score between user1 and user2 \n",
    "def pearson_score(dataset, user1, user2):\n",
    "    if user1 not in dataset:\n",
    "        raise TypeError('User ' + user1 + ' not present in the dataset')\n",
    "\n",
    "    if user2 not in dataset:\n",
    "        raise TypeError('User ' + user2 + ' not present in the dataset')\n",
    "\n",
    "    # Movies rated by both user1 and user2\n",
    "    rated_by_both = {}\n",
    "\n",
    "    for item in dataset[user1]:\n",
    "        if item in dataset[user2]:\n",
    "            rated_by_both[item] = 1\n",
    "\n",
    "    num_ratings = len(rated_by_both) \n",
    "\n",
    "    # If there are no common movies, the score is 0 \n",
    "    if num_ratings == 0:\n",
    "        return 0\n",
    "\n",
    "    # Compute the sum of ratings of all the common preferences \n",
    "    user1_sum = np.sum([dataset[user1][item] for item in rated_by_both])\n",
    "    user2_sum = np.sum([dataset[user2][item] for item in rated_by_both])\n",
    "\n",
    "    # Compute the sum of squared ratings of all the common preferences \n",
    "    user1_squared_sum = np.sum([np.square(dataset[user1][item]) for item in rated_by_both])\n",
    "    user2_squared_sum = np.sum([np.square(dataset[user2][item]) for item in rated_by_both])\n",
    "\n",
    "    # Compute the sum of products of the common ratings \n",
    "    product_sum = np.sum([dataset[user1][item] * dataset[user2][item] for item in rated_by_both])\n",
    "\n",
    "    # Compute the Pearson correlation\n",
    "    Sxy = product_sum - (user1_sum * user2_sum / num_ratings)\n",
    "    Sxx = user1_squared_sum - np.square(user1_sum) / num_ratings\n",
    "    Syy = user2_squared_sum - np.square(user2_sum) / num_ratings\n",
    "    \n",
    "    if Sxx * Syy == 0:\n",
    "        return 0\n",
    "\n",
    "    return Sxy / np.sqrt(Sxx * Syy)"
   ]
  },
  {
   "cell_type": "code",
   "execution_count": 26,
   "metadata": {},
   "outputs": [
    {
     "name": "stdout",
     "output_type": "stream",
     "text": [
      "Pearson score:\n",
      "0.39605901719066977\n"
     ]
    }
   ],
   "source": [
    "if __name__=='__main__':\n",
    "    data_file = 'Python-Machine-Learning-Cookbook-Second-Edition-master/Chapter06/movie_ratings.json'\n",
    "\n",
    "    with open(data_file, 'r') as f:\n",
    "        data = json.loads(f.read())\n",
    "\n",
    "    user1 = 'John Carson'\n",
    "    user2 = 'Michelle Peterson'\n",
    "\n",
    "    print(\"Pearson score:\")\n",
    "    print(pearson_score(data, user1, user2)) "
   ]
  },
  {
   "cell_type": "markdown",
   "metadata": {},
   "source": [
    "### Finding Similar Users in the Dataset "
   ]
  },
  {
   "cell_type": "code",
   "execution_count": 27,
   "metadata": {},
   "outputs": [],
   "source": [
    "import json\n",
    "import numpy as np\n",
    "\n",
    "from pearson_score import pearson_score"
   ]
  },
  {
   "cell_type": "code",
   "execution_count": 28,
   "metadata": {},
   "outputs": [],
   "source": [
    "# Finds a specified number of users who are similar to the input user\n",
    "def find_similar_users(dataset, user, num_users):\n",
    "    if user not in dataset:\n",
    "        raise TypeError('User ' + user + ' not present in the dataset')\n",
    "\n",
    "    # Compute Pearson scores for all the users\n",
    "    scores = np.array([[x, pearson_score(dataset, user, x)] for x in dataset if user != x])\n",
    "\n",
    "    # Sort the scores based on second column\n",
    "    scores_sorted = np.argsort(scores[:, 1])\n",
    "\n",
    "    # Sort the scores in decreasing order (highest score first) \n",
    "    scored_sorted_dec = scores_sorted[::-1]\n",
    "\n",
    "    # Extract top 'k' indices\n",
    "    top_k = scored_sorted_dec[0:num_users] \n",
    "\n",
    "    return scores[top_k] "
   ]
  },
  {
   "cell_type": "code",
   "execution_count": 35,
   "metadata": {},
   "outputs": [
    {
     "name": "stdout",
     "output_type": "stream",
     "text": [
      "Users similar to John Carson:\n",
      "\n",
      "User\t\t\tSimilarity score\n",
      "\n",
      "Michael Henry \t\t 0.99\n",
      "Alex Roberts \t\t 0.75\n",
      "Melissa Jones \t\t 0.59\n"
     ]
    }
   ],
   "source": [
    "if __name__=='__main__':\n",
    "    data_file = 'Python-Machine-Learning-Cookbook-Second-Edition-master/Chapter06/movie_ratings.json'\n",
    "\n",
    "    with open(data_file, 'r') as f:\n",
    "        data = json.loads(f.read())\n",
    "\n",
    "    user = 'John Carson'\n",
    "    print(\"Users similar to \" + user + \":\\n\")\n",
    "    similar_users = find_similar_users(data, user, 3) \n",
    "    print(\"User\\t\\t\\tSimilarity score\\n\")\n",
    "    for item in similar_users:\n",
    "        print(item[0], '\\t\\t', round(float(item[1]), 2))"
   ]
  },
  {
   "cell_type": "markdown",
   "metadata": {},
   "source": [
    "### Generating Movie Recommendations"
   ]
  },
  {
   "cell_type": "code",
   "execution_count": 36,
   "metadata": {},
   "outputs": [],
   "source": [
    "import json\n",
    "import numpy as np\n",
    "\n",
    "from pearson_score import pearson_score"
   ]
  },
  {
   "cell_type": "code",
   "execution_count": 37,
   "metadata": {},
   "outputs": [],
   "source": [
    "# Generate recommendations for a given user\n",
    "def generate_recommendations(dataset, user):\n",
    "    if user not in dataset:\n",
    "        raise TypeError('User ' + user + ' not present in the dataset')\n",
    "\n",
    "    total_scores = {}\n",
    "    similarity_sums = {}\n",
    "\n",
    "    for u in [x for x in dataset if x != user]:\n",
    "        similarity_score = pearson_score(dataset, user, u)\n",
    "\n",
    "        if similarity_score <= 0:\n",
    "            continue\n",
    "\n",
    "        for item in [x for x in dataset[u] if x not in dataset[user] or dataset[user][x] == 0]:\n",
    "            total_scores.update({item: dataset[u][item] * similarity_score})\n",
    "            similarity_sums.update({item: similarity_score})\n",
    "\n",
    "    if len(total_scores) == 0:\n",
    "        return ['No recommendations possible']\n",
    "\n",
    "    # Create the normalized list\n",
    "    movie_ranks = np.array([[total/similarity_sums[item], item] \n",
    "            for item, total in total_scores.items()])\n",
    "\n",
    "    # Sort in decreasing order based on the first column\n",
    "    movie_ranks = movie_ranks[np.argsort(movie_ranks[:, 0])[::-1]]\n",
    "\n",
    "    # Extract the recommended movies\n",
    "    recommendations = [movie for _, movie in movie_ranks]\n",
    "\n",
    "    return recommendations"
   ]
  },
  {
   "cell_type": "code",
   "execution_count": 42,
   "metadata": {},
   "outputs": [
    {
     "name": "stdout",
     "output_type": "stream",
     "text": [
      "Recommendations for Michael Henry:\n",
      "1. Jerry Maguire\n",
      "2. Inception\n",
      "3. Anger Management\n",
      "Recommendations for John Carson:\n",
      "1. No recommendations possible\n"
     ]
    }
   ],
   "source": [
    "if __name__=='__main__':\n",
    "    data_file = 'Python-Machine-Learning-Cookbook-Second-Edition-master/Chapter06/movie_ratings.json'\n",
    "\n",
    "    with open(data_file, 'r') as f:\n",
    "        data = json.loads(f.read())\n",
    "\n",
    "    user = 'Michael Henry'\n",
    "    print(\"Recommendations for \" + user + \":\")\n",
    "    movies = generate_recommendations(data, user) \n",
    "    for i, movie in enumerate(movies):\n",
    "        print(str(i+1) + '. ' + movie)\n",
    "\n",
    "    user = 'John Carson' \n",
    "    print(\"Recommendations for \" + user + \":\")\n",
    "    movies = generate_recommendations(data, user) \n",
    "    for i, movie in enumerate(movies):\n",
    "        print(str(i+1) + '. ' + movie)"
   ]
  },
  {
   "cell_type": "markdown",
   "metadata": {},
   "source": [
    "### Implementing Ranking Algorithms "
   ]
  },
  {
   "cell_type": "code",
   "execution_count": 1,
   "metadata": {},
   "outputs": [],
   "source": [
    "import pyltr"
   ]
  },
  {
   "cell_type": "code",
   "execution_count": 2,
   "metadata": {},
   "outputs": [],
   "source": [
    "path = 'Python-Machine-Learning-Cookbook-Second-Edition-master/Chapter06/'\n",
    "\n",
    "with open(path + 'train.txt') as trainfile, \\\n",
    "        open(path + 'vali.txt') as valifile, \\\n",
    "        open(path + 'test.txt') as testfile:\n",
    "    TrainX, Trainy, Trainqids, _ = pyltr.data.letor.read_dataset(trainfile)\n",
    "    ValX, Valy, Valqids, _ = pyltr.data.letor.read_dataset(valifile)\n",
    "    TestX, Testy, Testqids, _ = pyltr.data.letor.read_dataset(testfile)"
   ]
  },
  {
   "cell_type": "code",
   "execution_count": 17,
   "metadata": {},
   "outputs": [],
   "source": [
    "metric = pyltr.metrics.NDCG(k=10)\n",
    "\n",
    "# Only needed if you want to perform validation (early stopping & trimming)\n",
    "monitor = pyltr.models.monitors.ValidationMonitor(\n",
    "    ValX, Valy, Valqids, metric=metric, stop_after=250)"
   ]
  },
  {
   "cell_type": "code",
   "execution_count": 18,
   "metadata": {},
   "outputs": [],
   "source": [
    "model = pyltr.models.LambdaMART(\n",
    "    metric=metric,\n",
    "    n_estimators=1000,\n",
    "    learning_rate=0.02,\n",
    "    max_features=0.5,\n",
    "    query_subsample=0.5,\n",
    "    max_leaf_nodes=10,\n",
    "    min_samples_leaf=64,\n",
    "    verbose=1,\n",
    ")"
   ]
  },
  {
   "cell_type": "code",
   "execution_count": 19,
   "metadata": {},
   "outputs": [
    {
     "name": "stdout",
     "output_type": "stream",
     "text": [
      " Iter  Train score  OOB Improve    Remaining                           Monitor Output \n",
      "    1       0.1713       0.1765        6.24m      C:      0.1554 B:      0.1554 S:  0\n",
      "    2       0.3698       0.1655        6.18m      C:      0.3299 B:      0.3299 S:  0\n",
      "    3       0.4326       0.0384        6.35m      C:      0.3790 B:      0.3790 S:  0\n",
      "    4       0.4183       0.0215        6.41m      C:      0.4054 B:      0.4054 S:  0\n",
      "    5       0.4694       0.0048        6.38m      C:      0.4194 B:      0.4194 S:  0\n",
      "    6       0.4612       0.0006        6.32m      C:      0.4293 B:      0.4293 S:  0\n",
      "    7       0.4398      -0.0060        6.28m      C:      0.4306 B:      0.4306 S:  0\n",
      "    8       0.4923      -0.0010        6.29m      C:      0.4334 B:      0.4334 S:  0\n",
      "    9       0.4622       0.0033        6.28m      C:      0.4389 B:      0.4389 S:  0\n",
      "   10       0.5060      -0.0024        6.28m      C:      0.4390 B:      0.4390 S:  0\n",
      "   15       0.4971      -0.0001        6.24m      C:      0.4478 B:      0.4478 S:  0\n",
      "   20       0.4855      -0.0026        6.21m      C:      0.4450 B:      0.4484 S:  3\n",
      "   25       0.4699       0.0001        6.14m      C:      0.4455 B:      0.4484 S:  8\n",
      "   30       0.4934      -0.0029        6.12m      C:      0.4495 B:      0.4502 S:  1\n",
      "   35       0.4843       0.0013        6.08m      C:      0.4491 B:      0.4503 S:  1\n",
      "   40       0.4924      -0.0013        6.07m      C:      0.4498 B:      0.4503 S:  6\n",
      "   45       0.4862       0.0006        6.02m      C:      0.4503 B:      0.4510 S:  4\n",
      "   50       0.4724       0.0004        5.98m      C:      0.4524 B:      0.4528 S:  3\n",
      "   60       0.5262      -0.0021        5.91m      C:      0.4520 B:      0.4528 S: 13\n",
      "   70       0.5226      -0.0008        5.84m      C:      0.4536 B:      0.4541 S:  7\n",
      "   80       0.4823       0.0014        5.76m      C:      0.4492 B:      0.4541 S: 17\n",
      "   90       0.4815      -0.0016        5.69m      C:      0.4497 B:      0.4541 S: 27\n",
      "  100       0.5206       0.0018        5.63m      C:      0.4522 B:      0.4541 S: 37\n",
      "  120       0.5080      -0.0003        5.50m      C:      0.4529 B:      0.4541 S: 57\n",
      "  140       0.5171      -0.0003        5.38m      C:      0.4539 B:      0.4554 S:  7\n",
      "  160       0.5202      -0.0007        5.28m      C:      0.4545 B:      0.4568 S:  6\n",
      "  180       0.4836      -0.0001        5.16m      C:      0.4526 B:      0.4577 S: 16\n",
      "  200       0.5441      -0.0005        5.04m      C:      0.4535 B:      0.4577 S: 36\n",
      "  220       0.5281      -0.0007        4.93m      C:      0.4527 B:      0.4577 S: 56\n",
      "  240       0.5603      -0.0020        4.81m      C:      0.4547 B:      0.4577 S: 76\n",
      "  260       0.5276      -0.0003        4.69m      C:      0.4512 B:      0.4577 S: 96\n",
      "  280       0.5476       0.0016        4.58m      C:      0.4516 B:      0.4577 S:116\n",
      "  300       0.5606      -0.0000        4.46m      C:      0.4531 B:      0.4577 S:136\n",
      "  320       0.5764       0.0020        4.33m      C:      0.4517 B:      0.4577 S:156\n",
      "  340       0.5643      -0.0009        4.21m      C:      0.4521 B:      0.4577 S:176\n",
      "  360       0.5612      -0.0003        4.08m      C:      0.4512 B:      0.4577 S:196\n",
      "  380       0.5836      -0.0019        3.97m      C:      0.4514 B:      0.4577 S:216\n",
      "  400       0.5826      -0.0002        3.85m      C:      0.4548 B:      0.4577 S:236\n",
      "Early termination at iteration  413\n"
     ]
    },
    {
     "data": {
      "text/plain": [
       "<pyltr.models.lambdamart.LambdaMART at 0x7f278f556cc0>"
      ]
     },
     "execution_count": 19,
     "metadata": {},
     "output_type": "execute_result"
    }
   ],
   "source": [
    "model.fit(TestX, Testy, Testqids, monitor=monitor)"
   ]
  },
  {
   "cell_type": "code",
   "execution_count": 20,
   "metadata": {},
   "outputs": [
    {
     "name": "stdout",
     "output_type": "stream",
     "text": [
      "Random ranking: 0.27258472902087394\n",
      "Our model: 0.5268588293826652\n"
     ]
    }
   ],
   "source": [
    "Testpred = model.predict(TestX)\n",
    "print('Random ranking:', metric.calc_mean_random(Testqids, Testy))\n",
    "print('Our model:', metric.calc_mean(Testqids, Testy, Testpred))"
   ]
  },
  {
   "cell_type": "markdown",
   "metadata": {},
   "source": [
    "### Building a Filtering Model Using TensorFlow"
   ]
  },
  {
   "cell_type": "code",
   "execution_count": 21,
   "metadata": {},
   "outputs": [],
   "source": [
    "import numpy as np\n",
    "import pandas as pd\n",
    "import tensorflow as tf"
   ]
  },
  {
   "cell_type": "code",
   "execution_count": 22,
   "metadata": {},
   "outputs": [
    {
     "name": "stdout",
     "output_type": "stream",
     "text": [
      "Item:  3706\n",
      "Users:  6040\n"
     ]
    }
   ],
   "source": [
    "path = 'Python-Machine-Learning-Cookbook-Second-Edition-master/Chapter06/'\n",
    "\n",
    "Data = pd.read_csv(path + 'ratings.csv', sep=';', names=['user', 'item', 'rating', 'timestamp'], header=None)\n",
    "\n",
    "Data = Data.iloc[:,0:3]\n",
    "\n",
    "NumItems = Data.item.nunique() \n",
    "NumUsers = Data.user.nunique()\n",
    "\n",
    "print('Item: ', NumItems)\n",
    "print('Users: ', NumUsers)"
   ]
  },
  {
   "cell_type": "code",
   "execution_count": 23,
   "metadata": {},
   "outputs": [
    {
     "name": "stderr",
     "output_type": "stream",
     "text": [
      "/home/hussam/anaconda3/envs/py3/lib/python3.6/site-packages/ipykernel_launcher.py:14: FutureWarning: Method .as_matrix will be removed in a future version. Use .values instead.\n",
      "  \n"
     ]
    }
   ],
   "source": [
    "Data['rating'] = Data['rating'].values.astype(float)\n",
    "\n",
    "from sklearn.preprocessing import MinMaxScaler\n",
    "scaler = MinMaxScaler()\n",
    "DataScaled = pd.DataFrame(scaler.fit_transform(Data['rating'].values.reshape(-1,1)))\n",
    "Data['rating'] = DataScaled\n",
    "\n",
    "UserItemMatrix = Data.pivot(index='user', columns='item', values='rating')\n",
    "UserItemMatrix.fillna(0, inplace=True)\n",
    "\n",
    "Users = UserItemMatrix.index.tolist()\n",
    "Items = UserItemMatrix.columns.tolist()\n",
    "\n",
    "UserItemMatrix = UserItemMatrix.as_matrix()"
   ]
  },
  {
   "cell_type": "code",
   "execution_count": 39,
   "metadata": {},
   "outputs": [],
   "source": [
    "NumInput = NumItems\n",
    "NumHidden1 = 10\n",
    "NumHidden2 = 5\n",
    "\n",
    "X = tf.placeholder(tf.float64, [None, NumInput])\n",
    "\n",
    "weights = {\n",
    "    'EncoderH1': tf.Variable(tf.random_normal([NumInput, NumHidden1], dtype=tf.float64)),\n",
    "    'EncoderH2': tf.Variable(tf.random_normal([NumHidden1, NumHidden2], dtype=tf.float64)),\n",
    "    'DecoderH1': tf.Variable(tf.random_normal([NumHidden2, NumHidden1], dtype=tf.float64)),\n",
    "    'DecoderH2': tf.Variable(tf.random_normal([NumHidden1, NumInput], dtype=tf.float64)),\n",
    "}\n",
    "\n",
    "biases = {\n",
    "    'EncoderB1': tf.Variable(tf.random_normal([NumHidden1], dtype=tf.float64)),\n",
    "    'EncoderB2': tf.Variable(tf.random_normal([NumHidden2], dtype=tf.float64)),\n",
    "    'DecoderB1': tf.Variable(tf.random_normal([NumHidden1], dtype=tf.float64)),\n",
    "    'DecoderB2': tf.Variable(tf.random_normal([NumInput], dtype=tf.float64)),\n",
    "}"
   ]
  },
  {
   "cell_type": "code",
   "execution_count": 40,
   "metadata": {},
   "outputs": [],
   "source": [
    "def encoder(x):\n",
    "    Layer1 = tf.nn.sigmoid(tf.add(tf.matmul(x, weights['EncoderH1']), biases['EncoderB1']))\n",
    "    Layer2 = tf.nn.sigmoid(tf.add(tf.matmul(Layer1, weights['EncoderH2']), biases['EncoderB2']))\n",
    "    return Layer2\n",
    "\n",
    "\n",
    "# Building the decoder\n",
    "\n",
    "def decoder(x):\n",
    "    Layer1 = tf.nn.sigmoid(tf.add(tf.matmul(x, weights['DecoderH1']), biases['DecoderB1']))\n",
    "    Layer2 = tf.nn.sigmoid(tf.add(tf.matmul(Layer1, weights['DecoderH2']), biases['DecoderB2']))\n",
    "    return Layer2\n",
    "\n",
    "\n",
    "EncoderOp = encoder(X)\n",
    "DecoderOp = decoder(EncoderOp)\n",
    "\n",
    "\n",
    "YPred = DecoderOp\n",
    "\n",
    "YTrue = X\n",
    "\n",
    "loss = tf.losses.mean_squared_error(YTrue, YPred)\n",
    "Optimizer = tf.train.RMSPropOptimizer(0.03).minimize(loss)\n",
    "\n",
    "\n",
    "EvalX = tf.placeholder(tf.int32, )\n",
    "EvalY = tf.placeholder(tf.int32, )\n",
    "Pre, PreOp = tf.metrics.precision(labels=EvalX, predictions=EvalY)"
   ]
  },
  {
   "cell_type": "code",
   "execution_count": 41,
   "metadata": {},
   "outputs": [
    {
     "name": "stdout",
     "output_type": "stream",
     "text": [
      "Epoch: 1 Loss: 0.34791967074076335\n",
      "Epoch: 2 Loss: 0.3469028890132904\n",
      "Epoch: 3 Loss: 0.34162496626377103\n",
      "Epoch: 4 Loss: 0.3168571710586548\n",
      "Epoch: 5 Loss: 0.2790686031182607\n",
      "Epoch: 6 Loss: 0.23859522640705108\n",
      "Epoch: 7 Loss: 0.11656970195472241\n",
      "Epoch: 8 Loss: 0.027989649524291355\n",
      "Epoch: 9 Loss: 0.02128003891557455\n",
      "Epoch: 10 Loss: 0.020207831325630348\n",
      "Epoch: 11 Loss: 0.01980790086090565\n",
      "Epoch: 12 Loss: 0.019727089193960032\n",
      "Epoch: 13 Loss: 0.019687880327304206\n",
      "Epoch: 14 Loss: 0.01966147677352031\n",
      "Epoch: 15 Loss: 0.019643220429619152\n",
      "Epoch: 16 Loss: 0.019621152120331924\n",
      "Epoch: 17 Loss: 0.01939657675102353\n",
      "Epoch: 18 Loss: 0.019367488473653792\n",
      "Epoch: 19 Loss: 0.019360575576623282\n",
      "Epoch: 20 Loss: 0.019355244530985753\n",
      "Epoch: 21 Loss: 0.01935093691572547\n",
      "Epoch: 22 Loss: 0.01934709508592884\n",
      "Epoch: 23 Loss: 0.019343302492052315\n",
      "Epoch: 24 Loss: 0.01933624306693673\n",
      "Epoch: 25 Loss: 0.019125238868097465\n",
      "Epoch: 26 Loss: 0.0190646896759669\n",
      "Epoch: 27 Loss: 0.019048879326631626\n",
      "Epoch: 28 Loss: 0.018983078468590976\n",
      "Epoch: 29 Loss: 0.01881691807260116\n",
      "Epoch: 30 Loss: 0.018568939125786225\n",
      "Epoch: 31 Loss: 0.018228151152531305\n",
      "Epoch: 32 Loss: 0.01801471592237552\n",
      "Epoch: 33 Loss: 0.0178668483470877\n",
      "Epoch: 34 Loss: 0.01773972800001502\n",
      "Epoch: 35 Loss: 0.01762790698558092\n",
      "Epoch: 36 Loss: 0.017533474819113812\n",
      "Epoch: 37 Loss: 0.017449765590329964\n",
      "Epoch: 38 Loss: 0.017375012300908564\n",
      "Epoch: 39 Loss: 0.01730702506999175\n",
      "Epoch: 40 Loss: 0.017249508450428646\n",
      "Epoch: 41 Loss: 0.017198436862478652\n",
      "Epoch: 42 Loss: 0.01715535872305433\n",
      "Epoch: 43 Loss: 0.017116011089334884\n",
      "Epoch: 44 Loss: 0.017082604051878055\n",
      "Epoch: 45 Loss: 0.01704963529482484\n",
      "Epoch: 46 Loss: 0.017022068767497938\n",
      "Epoch: 47 Loss: 0.01699842168018222\n",
      "Epoch: 48 Loss: 0.016970555546383062\n",
      "Epoch: 49 Loss: 0.016947299210975566\n",
      "Epoch: 50 Loss: 0.016926329396665097\n",
      "Epoch: 51 Loss: 0.016905604706456263\n",
      "Epoch: 52 Loss: 0.016887710336595772\n",
      "Epoch: 53 Loss: 0.01686459792157014\n",
      "Epoch: 54 Loss: 0.016847755604734022\n",
      "Epoch: 55 Loss: 0.016827798541635276\n",
      "Epoch: 56 Loss: 0.01681739908332626\n",
      "Epoch: 57 Loss: 0.016791993721077838\n",
      "Epoch: 58 Loss: 0.016781026497483253\n",
      "Epoch: 59 Loss: 0.016762211980919043\n",
      "Epoch: 60 Loss: 0.016742425380895536\n",
      "Epoch: 61 Loss: 0.016725970432162285\n",
      "Epoch: 62 Loss: 0.016715101494143406\n",
      "Epoch: 63 Loss: 0.016702273674309254\n",
      "Epoch: 64 Loss: 0.01668097839380304\n",
      "Epoch: 65 Loss: 0.016681931726634503\n",
      "Epoch: 66 Loss: 0.016660956696917615\n",
      "Epoch: 67 Loss: 0.016644697450101376\n",
      "Epoch: 68 Loss: 0.016630476030210655\n",
      "Epoch: 69 Loss: 0.0166146549085776\n",
      "Epoch: 70 Loss: 0.01660494472210606\n",
      "Epoch: 71 Loss: 0.01659181173890829\n",
      "Epoch: 72 Loss: 0.016582909474770226\n",
      "Epoch: 73 Loss: 0.016571078387399515\n",
      "Epoch: 74 Loss: 0.0165563455161949\n",
      "Epoch: 75 Loss: 0.016544244065880776\n",
      "Epoch: 76 Loss: 0.016535909163455167\n",
      "Epoch: 77 Loss: 0.016522548254579307\n",
      "Epoch: 78 Loss: 0.01652320030455788\n",
      "Epoch: 79 Loss: 0.016503133159130812\n",
      "Epoch: 80 Loss: 0.016497498936951162\n",
      "Epoch: 81 Loss: 0.016490987595170738\n",
      "Epoch: 82 Loss: 0.016488460078835487\n",
      "Epoch: 83 Loss: 0.016465874016284944\n",
      "Epoch: 84 Loss: 0.016463428642600773\n",
      "Epoch: 85 Loss: 0.016453334844360748\n",
      "Epoch: 86 Loss: 0.016448389335225026\n",
      "Epoch: 87 Loss: 0.016435320644328993\n",
      "Epoch: 88 Loss: 0.016436664822200932\n",
      "Epoch: 89 Loss: 0.01642284613723556\n",
      "Epoch: 90 Loss: 0.016415307515611252\n",
      "Epoch: 91 Loss: 0.016412345382074516\n",
      "Epoch: 92 Loss: 0.016400387634833653\n",
      "Epoch: 93 Loss: 0.01639115931466222\n",
      "Epoch: 94 Loss: 0.0163873721845448\n",
      "Epoch: 95 Loss: 0.01638012221083045\n",
      "Epoch: 96 Loss: 0.016371440049260853\n",
      "Epoch: 97 Loss: 0.01636913853387038\n",
      "Epoch: 98 Loss: 0.01635733296473821\n",
      "Epoch: 99 Loss: 0.016353105815748375\n",
      "Epoch: 100 Loss: 0.01634562937542796\n",
      "Epoch: 101 Loss: 0.016345261223614217\n",
      "Epoch: 102 Loss: 0.016333507001399995\n",
      "Epoch: 103 Loss: 0.016332235808173817\n",
      "Epoch: 104 Loss: 0.01632014357795318\n",
      "Epoch: 105 Loss: 0.016319708339869975\n",
      "Epoch: 106 Loss: 0.01631381760040919\n",
      "Epoch: 107 Loss: 0.016305219661444426\n",
      "Epoch: 108 Loss: 0.016301363675544658\n",
      "Epoch: 109 Loss: 0.01629650037114819\n",
      "Epoch: 110 Loss: 0.016292916145175695\n",
      "Epoch: 111 Loss: 0.01628657812252641\n",
      "Epoch: 112 Loss: 0.016283039407183727\n",
      "Epoch: 113 Loss: 0.01627081399783492\n",
      "Epoch: 114 Loss: 0.016265622278054555\n",
      "Epoch: 115 Loss: 0.01625921195372939\n",
      "Epoch: 116 Loss: 0.016255296145876248\n",
      "Epoch: 117 Loss: 0.01625435703123609\n",
      "Epoch: 118 Loss: 0.016247836655626693\n",
      "Epoch: 119 Loss: 0.016234801150858402\n",
      "Epoch: 120 Loss: 0.01623682218293349\n",
      "      user  item    rating\n",
      "2651     1  2858  0.442999\n",
      "2203     1  2396  0.333325\n",
      "2785     1  2997  0.253862\n",
      "309      1   318  0.227632\n",
      "579      1   593  0.222258\n",
      "851      1   912  0.209346\n",
      "1485     1  1617  0.198231\n",
      "802      1   858  0.197646\n",
      "33       1    34  0.169790\n",
      "1173     1  1265  0.169679\n"
     ]
    }
   ],
   "source": [
    "Init = tf.global_variables_initializer()\n",
    "LocalInit = tf.local_variables_initializer()\n",
    "\n",
    "PredData = pd.DataFrame()\n",
    "\n",
    "with tf.Session() as session:\n",
    "    Epochs = 120\n",
    "    BatchSize = 200\n",
    "\n",
    "    session.run(Init)\n",
    "    session.run(LocalInit)\n",
    "\n",
    "    NumBatches = int(UserItemMatrix.shape[0] / BatchSize)\n",
    "    UserItemMatrix = np.array_split(UserItemMatrix, NumBatches)\n",
    "    \n",
    "    for i in range(Epochs):\n",
    "\n",
    "        AvgCost = 0\n",
    "\n",
    "        for batch in UserItemMatrix:\n",
    "            _, l = session.run([Optimizer, loss], feed_dict={X: batch})\n",
    "            AvgCost += l\n",
    "\n",
    "        AvgCost /= NumBatches\n",
    "\n",
    "        print(\"Epoch: {} Loss: {}\".format(i + 1, AvgCost))\n",
    "\n",
    "    UserItemMatrix = np.concatenate(UserItemMatrix, axis=0)\n",
    "\n",
    "    Preds = session.run(DecoderOp, feed_dict={X: UserItemMatrix})\n",
    "\n",
    "    PredData = PredData.append(pd.DataFrame(Preds))\n",
    "\n",
    "    PredData = PredData.stack().reset_index(name='rating')\n",
    "    PredData.columns = ['user', 'item', 'rating']\n",
    "    PredData['user'] = PredData['user'].map(lambda value: Users[value])\n",
    "    PredData['item'] = PredData['item'].map(lambda value: Items[value])\n",
    "    \n",
    "    keys = ['user', 'item']\n",
    "    Index1 = PredData.set_index(keys).index\n",
    "    Index2 = Data.set_index(keys).index\n",
    "\n",
    "    TopTenRanked = PredData[~Index1.isin(Index2)]\n",
    "    TopTenRanked = TopTenRanked.sort_values(['user', 'rating'], ascending=[True, False])\n",
    "    TopTenRanked = TopTenRanked.groupby('user').head(10)\n",
    "    \n",
    "    print(TopTenRanked.head(n=10))"
   ]
  },
  {
   "cell_type": "code",
   "execution_count": null,
   "metadata": {},
   "outputs": [],
   "source": []
  }
 ],
 "metadata": {
  "kernelspec": {
   "display_name": "Python (py3.6)",
   "language": "python",
   "name": "py3"
  },
  "language_info": {
   "codemirror_mode": {
    "name": "ipython",
    "version": 3
   },
   "file_extension": ".py",
   "mimetype": "text/x-python",
   "name": "python",
   "nbconvert_exporter": "python",
   "pygments_lexer": "ipython3",
   "version": "3.6.7"
  }
 },
 "nbformat": 4,
 "nbformat_minor": 2
}
